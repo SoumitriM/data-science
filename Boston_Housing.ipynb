{
  "nbformat": 4,
  "nbformat_minor": 0,
  "metadata": {
    "colab": {
      "name": "Boston-Housing.ipynb",
      "version": "0.3.2",
      "provenance": [],
      "include_colab_link": true
    },
    "kernelspec": {
      "name": "python3",
      "display_name": "Python 3"
    }
  },
  "cells": [
    {
      "cell_type": "markdown",
      "metadata": {
        "id": "view-in-github",
        "colab_type": "text"
      },
      "source": [
        "<a href=\"https://colab.research.google.com/github/SoumitriM/data-science/blob/master/Boston_Housing.ipynb\" target=\"_parent\"><img src=\"https://colab.research.google.com/assets/colab-badge.svg\" alt=\"Open In Colab\"/></a>"
      ]
    },
    {
      "cell_type": "code",
      "metadata": {
        "id": "7OO7uG5jA-Ml",
        "colab_type": "code",
        "colab": {}
      },
      "source": [
        "import numpy as np\n",
        "import pandas as pd\n",
        "from sklearn.metrics import r2_score\n",
        "data = pd.read_csv('https://raw.githubusercontent.com/selva86/datasets/master/BostonHousing.csv')\n",
        "data.shape\n",
        "#data.drop(\"zn\",\"crim\",\"indus\",\"chas\",axis=1,inplace=True)\n",
        "#data.drop(\"zn\",axis=1,inplace=True)\n",
        "#data.drop(\"chas\",axis=1,inplace=True)\n",
        "#data.drop(\"indus\",axis=1,inplace=True)\n",
        "#data.drop(\"b\",axis=1,inplace=True)\n",
        "#data.drop(\"nox\",axis=1,inplace=True)\n",
        "#data.drop(\"rad\",axis=1,inplace=True)\n",
        "#data.drop(\"dis\",axis=1,inplace=True)\n",
        "#data.drop(\"crim\",axis=1,inplace=True)\n",
        "#data.drop(\"age\",axis=1,inplace=True)\n",
        "#data.drop(\"tax\",axis=1,inplace=True)\n",
        "#distinguishing data and target\n",
        "prices = data[\"medv\"]\n",
        "features = data.drop(\"medv\",axis = 1)\n",
        "data.head(10)\n"
      ],
      "execution_count": 0,
      "outputs": []
    },
    {
      "cell_type": "code",
      "metadata": {
        "id": "pvh_-H73UO72",
        "colab_type": "code",
        "colab": {}
      },
      "source": [
        "from sklearn.metrics import r2_score\n",
        "score = r2_score(y_true,y_predict)\n",
        "score"
      ],
      "execution_count": 0,
      "outputs": []
    },
    {
      "cell_type": "code",
      "metadata": {
        "id": "oVnOKJqHjD3w",
        "colab_type": "code",
        "outputId": "96ed8f35-dbba-4cb4-9420-a928f599b450",
        "colab": {
          "base_uri": "https://localhost:8080/",
          "height": 35
        }
      },
      "source": [
        "score = performance_metric([3, -0.5, 2, 7, 4.2], [2.5, 0.0, 2.1, 7.8, 5.3])\n",
        "score"
      ],
      "execution_count": 0,
      "outputs": [
        {
          "output_type": "execute_result",
          "data": {
            "text/plain": [
              "0.9228556485355649"
            ]
          },
          "metadata": {
            "tags": []
          },
          "execution_count": 77
        }
      ]
    },
    {
      "cell_type": "code",
      "metadata": {
        "id": "WoeFpnOllvMB",
        "colab_type": "code",
        "outputId": "44a989c0-4a87-434d-e4b2-13755a4b20bb",
        "colab": {
          "base_uri": "https://localhost:8080/",
          "height": 35
        }
      },
      "source": [
        "#from sklearn.cross_validation import ShuffleSplit \n",
        "from sklearn.model_selection import train_test_split\n",
        "x_train,x_test,y_train,y_test = train_test_split(features,prices,random_state = 1)\n",
        "x_train.shape[0]\n",
        "x_test.shape[0]\n"
      ],
      "execution_count": 0,
      "outputs": [
        {
          "output_type": "execute_result",
          "data": {
            "text/plain": [
              "127"
            ]
          },
          "metadata": {
            "tags": []
          },
          "execution_count": 78
        }
      ]
    },
    {
      "cell_type": "code",
      "metadata": {
        "id": "1TuBA--jz_ZL",
        "colab_type": "code",
        "colab": {}
      },
      "source": [
        "from sklearn.model_selection import ShuffleSplit\n",
        "from sklearn.tree import DecisionTreeRegressor\n",
        "from sklearn.model_selection import GridSearchCV\n",
        "from sklearn.metrics import make_scorer\n",
        "from sklearn.linear_model import LinearRegression\n",
        "x = features\n",
        "y = prices\n",
        "cv_sets = ShuffleSplit(n_splits = 10, test_size = 0.25, random_state = 0)\n",
        "cv_sets.get_n_splits(x.shape[0])\n",
        "regressor = DecisionTreeRegressor(random_state = 0)\n",
        "dt_range = range(1,11)\n",
        "params = dict(max_depth=dt_range)\n",
        "scoring_fnc = make_scorer(performance_metric)\n",
        "grid = GridSearchCV(regressor, params, cv = cv_sets, scoring = scoring_fnc)\n",
        "grid.fit(x,y)\n",
        "grid.best_score_\n",
        "  \n"
      ],
      "execution_count": 0,
      "outputs": []
    },
    {
      "cell_type": "markdown",
      "metadata": {
        "id": "39ZuMPZ1pdrT",
        "colab_type": "text"
      },
      "source": [
        "Using linear regression"
      ]
    },
    {
      "cell_type": "code",
      "metadata": {
        "id": "aBBfBm7LS8i7",
        "colab_type": "code",
        "outputId": "20a33a80-f4ef-4ab1-ca39-54ac1b84d098",
        "colab": {
          "base_uri": "https://localhost:8080/",
          "height": 35
        }
      },
      "source": [
        "from sklearn.metrics import mean_squared_error\n",
        "import matplotlib.pyplot as plt\n",
        "reg = LinearRegression()\n",
        "#reg.fit(x_train,y_train)\n",
        "#y_pred = reg.predict(x_test)\n",
        "mean_squared_error(y_test, y_pred)\n",
        "#plt.scatter(y_test, y_pred)\n",
        "#plt.xlabel(\"prices\")\n",
        "#plt.ylabel(\"predicted prices\")\n",
        "#plt.show"
      ],
      "execution_count": 0,
      "outputs": [
        {
          "output_type": "execute_result",
          "data": {
            "text/plain": [
              "21.897765396049675"
            ]
          },
          "metadata": {
            "tags": []
          },
          "execution_count": 81
        }
      ]
    }
  ]
}